{
 "cells": [
  {
   "cell_type": "code",
   "execution_count": 4,
   "id": "printable-boring",
   "metadata": {},
   "outputs": [],
   "source": [
    "import torch\n",
    "import numpy as np"
   ]
  },
  {
   "cell_type": "code",
   "execution_count": 5,
   "id": "connected-literature",
   "metadata": {},
   "outputs": [],
   "source": [
    "import pickle \n",
    "\n",
    "def pkl_save(path, obj):\n",
    "  with open(path, 'wb') as file:\n",
    "    pickle.dump(obj, file)\n",
    "\n",
    "def pkl_load(path):\n",
    "  with open(path, 'rb') as file:\n",
    "    return pickle.load(file)"
   ]
  },
  {
   "cell_type": "code",
   "execution_count": 10,
   "id": "biological-landscape",
   "metadata": {},
   "outputs": [],
   "source": [
    "gg2 = np.array(pkl_load(\"geocell_2\"))"
   ]
  },
  {
   "cell_type": "code",
   "execution_count": 11,
   "id": "exotic-mason",
   "metadata": {},
   "outputs": [],
   "source": [
    "pkl_save(\"geocell2\", gg1)"
   ]
  },
  {
   "cell_type": "code",
   "execution_count": 13,
   "id": "funky-particular",
   "metadata": {},
   "outputs": [
    {
     "data": {
      "text/plain": [
       "(97068, 125)"
      ]
     },
     "execution_count": 13,
     "metadata": {},
     "output_type": "execute_result"
    }
   ],
   "source": [
    "np.array(gg2).shape"
   ]
  },
  {
   "cell_type": "code",
   "execution_count": null,
   "id": "equivalent-supplier",
   "metadata": {},
   "outputs": [],
   "source": []
  }
 ],
 "metadata": {
  "kernelspec": {
   "display_name": "Python 3",
   "language": "python",
   "name": "python3"
  },
  "language_info": {
   "codemirror_mode": {
    "name": "ipython",
    "version": 3
   },
   "file_extension": ".py",
   "mimetype": "text/x-python",
   "name": "python",
   "nbconvert_exporter": "python",
   "pygments_lexer": "ipython3",
   "version": "3.7.9"
  }
 },
 "nbformat": 4,
 "nbformat_minor": 5
}
